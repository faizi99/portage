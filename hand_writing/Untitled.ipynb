{
 "cells": [
  {
   "cell_type": "code",
   "execution_count": null,
   "id": "f4f173f0",
   "metadata": {},
   "outputs": [],
   "source": [
    "import os\n",
    "import classify\n",
    "import shutil\n",
    "import cv2\n",
    "from csv import writer\n",
    "import pandas as pd\n",
    "\n",
    "\n",
    "for filename in os.listdir(\"/home/faizi/Desktop/Production_repo/s3_upload_folder\"):\n",
    "\tprint(filename)\n",
    "\timg=cv2.imread(f\"/home/faizi/Desktop/Production_repo/s3_upload_folder/{filename}\")\n",
    "\theight=img.shape[0]\n",
    "\tfragment=int(height/5)\n",
    "\twidth=img.shape[1]\n",
    "\tpart_counter=0\n",
    "\thand_write_counter=0\n",
    "    \n",
    "    df = pd.DataFrame(columns=['Page', 'Hand_written %'])\n",
    "    print(df)\n",
    "    \n",
    "\tfor r in range(0,img.shape[0],fragment):\n",
    "\t\tpart_counter+=1\n",
    "\t\tcv2.imwrite(f\"./small_parts/{filename}_img{r}_{2200}.jpg\",img[r:r+fragment, 0:width,:])\n",
    "\t\tresult=classify.main(f\"./small_parts/{filename}_img{r}_{2200}.jpg\")\n",
    "\t\thandwritten_score=result[\"handwritten\"]\n",
    "\t\tif handwritten_score >= 0.60:\n",
    "\t\t\thand_write_counter+=1\n",
    "\n",
    "\thandwritten_percentage=(hand_write_counter/part_counter)*100\n",
    "\t\n",
    "    dict = {'Page': filename, 'Hand_written %':handwritten_percentage}\n",
    "    df = df.append(dict, ignore_index=True)\n",
    "        \n",
    "\t\t\t\n",
    "\t\t\t\n",
    "\t\t"
   ]
  },
  {
   "cell_type": "code",
   "execution_count": 2,
   "id": "9c84b1ce",
   "metadata": {},
   "outputs": [],
   "source": [
    "import os"
   ]
  },
  {
   "cell_type": "code",
   "execution_count": 4,
   "id": "bf42e737",
   "metadata": {},
   "outputs": [
    {
     "name": "stdout",
     "output_type": "stream",
     "text": [
      "/home/faizi/Desktop/Production_repo/hand_writing\n"
     ]
    }
   ],
   "source": [
    "abs_path = os.path.abspath(\"./\")\n",
    "print(abs_path)"
   ]
  }
 ],
 "metadata": {
  "kernelspec": {
   "display_name": "Python [conda env:handwritten]",
   "language": "python",
   "name": "conda-env-handwritten-py"
  },
  "language_info": {
   "codemirror_mode": {
    "name": "ipython",
    "version": 3
   },
   "file_extension": ".py",
   "mimetype": "text/x-python",
   "name": "python",
   "nbconvert_exporter": "python",
   "pygments_lexer": "ipython3",
   "version": "3.7.11"
  }
 },
 "nbformat": 4,
 "nbformat_minor": 5
}
